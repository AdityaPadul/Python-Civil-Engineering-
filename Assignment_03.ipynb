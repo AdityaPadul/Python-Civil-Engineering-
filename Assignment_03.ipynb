{
  "nbformat": 4,
  "nbformat_minor": 0,
  "metadata": {
    "colab": {
      "provenance": [],
      "authorship_tag": "ABX9TyONcVWc27FZvvZ6BM85LK4u",
      "include_colab_link": true
    },
    "kernelspec": {
      "name": "python3",
      "display_name": "Python 3"
    },
    "language_info": {
      "name": "python"
    }
  },
  "cells": [
    {
      "cell_type": "markdown",
      "metadata": {
        "id": "view-in-github",
        "colab_type": "text"
      },
      "source": [
        "<a href=\"https://colab.research.google.com/github/AdityaPadul/Python-Civil-Engineering-/blob/main/Assignment_03.ipynb\" target=\"_parent\"><img src=\"https://colab.research.google.com/assets/colab-badge.svg\" alt=\"Open In Colab\"/></a>"
      ]
    },
    {
      "cell_type": "code",
      "execution_count": 2,
      "metadata": {
        "colab": {
          "base_uri": "https://localhost:8080/"
        },
        "id": "qDAFKTumRmBV",
        "outputId": "7d0d6094-512c-4a62-f411-d649dfbd2544"
      },
      "outputs": [
        {
          "output_type": "stream",
          "name": "stdout",
          "text": [
            "Enter the value of design speed: 65\n",
            "Enter the value of Radius of curvature: 220\n",
            "Enter the value of slope: 150\n",
            "Enter the value of width of road including extra widening: 7.5\n",
            "enter the value for plain terain:0.07\n",
            "The length of transition curve: 39.37500000000001\n"
          ]
        }
      ],
      "source": [
        "#Aditya Padul 23CV318\n",
        "#To Calculate the length of transition curve\n",
        "V= int(input(\"Enter the value of design speed: \"))\n",
        "R= int(input(\"Enter the value of Radius of curvature: \"))\n",
        "N= int(input(\"Enter the value of slope: \"))\n",
        "W= float(input(\"Enter the value of width of road including extra widening: \"))\n",
        "emax=float(input(\"enter the value for plain terain:\"))\n",
        "\n",
        "Ls=(emax*N*W/2)\n",
        "print(\"The length of transition curve:\", Ls)"
      ]
    },
    {
      "cell_type": "code",
      "source": [
        "#Aditya Padul 23CV318\n",
        "R = int(input(\" Constant R: \"))\n",
        "C = int (input (\" Constant C: \"))\n",
        "import numpy as geek # Added spaces for correct import\n",
        "A = int(input (\"Total Data Values for EWL Constant: \"))\n",
        "B = int(input (\"Total Data Values for AADT: \"))\n",
        "EWL_Constant = [] # Corrected variable name\n",
        "AADT = []\n",
        "for i in range (A): # Corrected loop variable\n",
        "  print(\"Enter EWL Constant:\")\n",
        "  ewl_val = float (input()) # Used a different variable for input\n",
        "  EWL_Constant.append(ewl_val) # Appended the input value\n",
        "for j in range (B): # Corrected loop variable\n",
        "  print(\"Enter AADT: \")\n",
        "  aadt_val = float (input ())\n",
        "  # Used a different variable for input\n",
        "  AADT.append (aadt_val)\n",
        "  # Appended the input value\n",
        "product = geek.dot (EWL_Constant, AADT)\n",
        "# Corrected variable name\n",
        "# print(\" Dot Product\")\n",
        "# This line was commented out\n",
        "Total_EWL = product\n",
        "# Corrected variable name\n",
        "print(\" Total EWL :\", Total_EWL)\n",
        "# Corrected variable name\n",
        "print(\"EWL after 60 years :\", Total_EWL*1.6)\n",
        "# Corrected variable name\n",
        "TI = 1.35 * (((1.6 * Total_EWL) + (Total_EWL / 2)) ** 0.11)\n",
        "# Corrected variable names and calculation\n",
        "print (\"Traffic Index : \", TI)\n",
        "\n",
        "# Output # Removed the use of \"Output\" as a variable name\n",
        "Thickness = 0.166 * TI * (99 - R) / (C ** 0.2)\n",
        "print (\"Pavement Thickness: \", Thickness, \"cm\")\n"
      ],
      "metadata": {
        "colab": {
          "base_uri": "https://localhost:8080/"
        },
        "id": "GmJX5rNQSH_W",
        "outputId": "5d23e287-8fc5-4a92-9742-815c8e15dec4"
      },
      "execution_count": 3,
      "outputs": [
        {
          "output_type": "stream",
          "name": "stdout",
          "text": [
            " Constant R: 48\n",
            " Constant C: 16\n",
            "Total Data Values for EWL Constant: 4\n",
            "Total Data Values for AADT: 4\n",
            "Enter EWL Constant:\n",
            "330\n",
            "Enter EWL Constant:\n",
            "1070\n",
            "Enter EWL Constant:\n",
            "2460\n",
            "Enter EWL Constant:\n",
            "4620\n",
            "Enter AADT: \n",
            "3750\n",
            "Enter AADT: \n",
            "470\n",
            "Enter AADT: \n",
            "320\n",
            "Enter AADT: \n",
            "120\n",
            " Total EWL : 3082000.0\n",
            "EWL after 60 years : 4931200.0\n",
            "Traffic Index :  7.577910657490486\n",
            "Pavement Thickness:  36.847136933326986 cm\n"
          ]
        }
      ]
    },
    {
      "cell_type": "code",
      "source": [
        "#Aditya Padul 23CV318\n",
        "P =float (input(\" Load in kg: \"))\n",
        "p =float (input (\" Tyre pressure kg/cm^2: \"))\n",
        "M = int (input (\"Total Number of layers in a given Pavement : \"))\n",
        "pi = 3.14159\n",
        "CBR = []\n",
        "for i in range (1, M+1):\n",
        "  print (\"California Bearing Ratio of Material in %\")\n",
        "  CBR_value = float (input ())\n",
        "  CBR. append (CBR_value)\n",
        "  T = ((1.75*P)/ (CBR_value) -(P/(p*pi)) ) **0.5\n",
        "  print (\"Thickness Above this layer: \", T, \"cm\")\n",
        "\n",
        "print (\"Given that bitumen layer of 4 cm\")\n"
      ],
      "metadata": {
        "colab": {
          "base_uri": "https://localhost:8080/"
        },
        "id": "zgpsbCGxS0tj",
        "outputId": "cf54ac9b-7832-4191-f7bd-da5666e924e1"
      },
      "execution_count": 4,
      "outputs": [
        {
          "output_type": "stream",
          "name": "stdout",
          "text": [
            " Load in kg: 4085\n",
            " Tyre pressure kg/cm^2: 7\n",
            "Total Number of layers in a given Pavement : 3\n",
            "California Bearing Ratio of Material in %\n",
            "4.38\n",
            "Thickness Above this layer:  38.031276487723645 cm\n",
            "California Bearing Ratio of Material in %\n",
            "6\n",
            "Thickness Above this layer:  31.712799015896838 cm\n",
            "California Bearing Ratio of Material in %\n",
            "12\n",
            "Thickness Above this layer:  20.247776538573337 cm\n",
            "Given that bitumen layer of 4 cm\n"
          ]
        }
      ]
    }
  ]
}